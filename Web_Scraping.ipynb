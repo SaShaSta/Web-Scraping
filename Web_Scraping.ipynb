{
  "nbformat": 4,
  "nbformat_minor": 0,
  "metadata": {
    "colab": {
      "provenance": []
    },
    "kernelspec": {
      "name": "python3",
      "display_name": "Python 3"
    },
    "language_info": {
      "name": "python"
    }
  },
  "cells": [
    {
      "cell_type": "markdown",
      "source": [
        "**AMAZON.COM**"
      ],
      "metadata": {
        "id": "6rynfnGXqrhH"
      }
    },
    {
      "cell_type": "code",
      "execution_count": null,
      "metadata": {
        "colab": {
          "base_uri": "https://localhost:8080/"
        },
        "id": "O7OxQ44ep4eO",
        "outputId": "bca5083c-1070-4b4e-8442-fadfb4b5df20"
      },
      "outputs": [
        {
          "output_type": "stream",
          "name": "stdout",
          "text": [
            "Requirement already satisfied: requests in /usr/local/lib/python3.10/dist-packages (2.31.0)\n",
            "Requirement already satisfied: beautifulsoup4 in /usr/local/lib/python3.10/dist-packages (4.12.3)\n",
            "Requirement already satisfied: charset-normalizer<4,>=2 in /usr/local/lib/python3.10/dist-packages (from requests) (3.3.2)\n",
            "Requirement already satisfied: idna<4,>=2.5 in /usr/local/lib/python3.10/dist-packages (from requests) (3.7)\n",
            "Requirement already satisfied: urllib3<3,>=1.21.1 in /usr/local/lib/python3.10/dist-packages (from requests) (2.0.7)\n",
            "Requirement already satisfied: certifi>=2017.4.17 in /usr/local/lib/python3.10/dist-packages (from requests) (2024.6.2)\n",
            "Requirement already satisfied: soupsieve>1.2 in /usr/local/lib/python3.10/dist-packages (from beautifulsoup4) (2.5)\n"
          ]
        }
      ],
      "source": [
        "pip install requests beautifulsoup4"
      ]
    },
    {
      "cell_type": "code",
      "source": [
        "import requests\n",
        "from bs4 import BeautifulSoup\n",
        "\n",
        "# URL of the Amazon product page\n",
        "url = 'https://www.amazon.com/Owala-FreeSip-Insulated-Stainless-BPA-Free/dp/B0BZYCJK89/?_encoding=UTF8&pd_rd_w=2fOpe&content-id=amzn1.sym.64be5821-f651-4b0b-8dd3-4f9b884f10e5&pf_rd_p=64be5821-f651-4b0b-8dd3-4f9b884f10e5&pf_rd_r=W16C7B1AJ8BV0FQYTM09&pd_rd_wg=Oa7rl&pd_rd_r=842a48b5-606f-49f8-99a4-262aa39a1e7e&ref_=pd_hp_d_btf_crs_zg_bs_1055398&th=1'\n",
        "\n",
        "# Define headers to mimic a browser request\n",
        "headers = {\n",
        "    \"User-Agent\": \"Mozilla/5.0 (Windows NT 10.0; Win64; x64) AppleWebKit/537.36 (KHTML, like Gecko) Chrome/90.0.4430.93 Safari/537.36\",\n",
        "    \"Accept-Language\": \"en-US, en;q=0.5\"\n",
        "}\n",
        "\n",
        "# Send a GET request to fetch the page content\n",
        "response = requests.get(url, headers=headers)\n",
        "\n",
        "# Check if the request was successful\n",
        "if response.status_code == 200:\n",
        "    # Parse the page content\n",
        "    soup = BeautifulSoup(response.content, 'html.parser')\n",
        "\n",
        "    # Scrape the product title\n",
        "    title = soup.find(id='productTitle').get_text(strip=True)\n",
        "\n",
        "    # Scrape the product price\n",
        "    price = soup.find('span', {'class': 'a-offscreen'}).get_text(strip=True)\n",
        "\n",
        "    # Scrape the product rating\n",
        "    rating = soup.find('span', {'class': 'a-icon-alt'}).get_text(strip=True)\n",
        "\n",
        "    # Scrape the number of reviews\n",
        "    review_count = soup.find(id='acrCustomerReviewText').get_text(strip=True)\n",
        "\n",
        "    # Scrape the product availability\n",
        "    availability = soup.find(id='availability').find('span').get_text(strip=True)\n",
        "\n",
        "    # Print the scraped data\n",
        "    print('Product Title:', title)\n",
        "    print('Price:', price)\n",
        "    print('Rating:', rating)\n",
        "    print('Number of Reviews:', review_count)\n",
        "    print('Availability:', availability)\n",
        "else:\n",
        "    print('Failed to retrieve the page')\n",
        "\n"
      ],
      "metadata": {
        "colab": {
          "base_uri": "https://localhost:8080/"
        },
        "id": "IqOkYpU0qKo0",
        "outputId": "769e1cef-eab1-4fdd-9591-68055e440e3a"
      },
      "execution_count": null,
      "outputs": [
        {
          "output_type": "stream",
          "name": "stdout",
          "text": [
            "Product Title: Owala FreeSip Insulated Stainless Steel Water Bottle with Straw for Sports and Travel, BPA-Free, 24-oz, Blue/Teal (Denim)\n",
            "Price: $27.99\n",
            "Rating: 4.7 out of 5 stars\n",
            "Number of Reviews: 43,457 ratings\n",
            "Availability: In Stock\n"
          ]
        }
      ]
    },
    {
      "cell_type": "code",
      "source": [
        "import requests\n",
        "from bs4 import BeautifulSoup\n",
        "\n",
        "# URL of the Amazon product page\n",
        "url= 'https://www.amazon.com/Stanley-IceFlow-Stainless-Steel-Tumbler/dp/B0BNYR7MQV/?_encoding=UTF8&pd_rd_w=2fOpe&content-id=amzn1.sym.64be5821-f651-4b0b-8dd3-4f9b884f10e5&pf_rd_p=64be5821-f651-4b0b-8dd3-4f9b884f10e5&pf_rd_r=W16C7B1AJ8BV0FQYTM09&pd_rd_wg=Oa7rl&pd_rd_r=842a48b5-606f-49f8-99a4-262aa39a1e7e&ref_=pd_hp_d_btf_crs_zg_bs_1055398'\n",
        "# Define headers to mimic a browser request\n",
        "headers = {\n",
        "    \"User-Agent\": \"Mozilla/5.0 (Windows NT 10.0; Win64; x64) AppleWebKit/537.36 (KHTML, like Gecko) Chrome/90.0.4430.93 Safari/537.36\",\n",
        "    \"Accept-Language\": \"en-US, en;q=0.5\"\n",
        "}\n",
        "\n",
        "# Send a GET request to fetch the page content\n",
        "response = requests.get(url, headers=headers)\n",
        "\n",
        "# Check if the request was successful\n",
        "if response.status_code == 200:\n",
        "    # Parse the page content\n",
        "    soup = BeautifulSoup(response.content, 'html.parser')\n",
        "\n",
        "    # Scrape the product title\n",
        "    title = soup.find(id='productTitle').get_text(strip=True)\n",
        "\n",
        "    # Scrape the product price\n",
        "    price = soup.find('span', {'class': 'a-offscreen'}).get_text(strip=True)\n",
        "\n",
        "    # Scrape the product rating\n",
        "    rating = soup.find('span', {'class': 'a-icon-alt'}).get_text(strip=True)\n",
        "\n",
        "    # Scrape the number of reviews\n",
        "    review_count = soup.find(id='acrCustomerReviewText').get_text(strip=True)\n",
        "\n",
        "    # Scrape the product availability\n",
        "    availability = soup.find(id='availability').find('span').get_text(strip=True)\n",
        "\n",
        "    # Print the scraped data\n",
        "    print('Product Title:', title)\n",
        "    print('Price:', price)\n",
        "    print('Rating:', rating)\n",
        "    print('Number of Reviews:', review_count)\n",
        "    print('Availability:', availability)\n",
        "else:\n",
        "    print('Failed to retrieve the page')\n",
        "\n"
      ],
      "metadata": {
        "colab": {
          "base_uri": "https://localhost:8080/"
        },
        "id": "ggqigH0ar-3b",
        "outputId": "ce2f94b4-f1d0-4055-9cbb-e84e84e045f4"
      },
      "execution_count": null,
      "outputs": [
        {
          "output_type": "stream",
          "name": "stdout",
          "text": [
            "Product Title: STANLEY IceFlow Stainless Steel Tumbler with Straw, Vacuum Insulated Water Bottle for Home, Office or Car, Reusable Cup with Straw Leak Resistant Flip\n",
            "Price: $34.97\n",
            "Rating: 4.6 out of 5 stars\n",
            "Number of Reviews: 26,079 ratings\n",
            "Availability: Only 1 left in stock - order soon.\n"
          ]
        }
      ]
    }
  ]
}